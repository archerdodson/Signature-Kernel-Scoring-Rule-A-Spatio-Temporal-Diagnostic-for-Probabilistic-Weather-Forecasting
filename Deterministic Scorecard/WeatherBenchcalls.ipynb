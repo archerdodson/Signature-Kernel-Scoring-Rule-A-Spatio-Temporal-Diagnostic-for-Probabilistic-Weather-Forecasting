{
 "cells": [
  {
   "cell_type": "code",
   "execution_count": 1,
   "id": "6095267b",
   "metadata": {},
   "outputs": [],
   "source": [
    "import os\n",
    "import weatherbench2\n",
    "import xarray as xr\n",
    "import math\n",
    "from weatherbench2.regions import SliceRegion, ExtraTropicalRegion\n",
    "from weatherbench2.evaluation import evaluate_in_memory\n",
    "from weatherbench2 import config\n",
    "import numpy as np\n",
    "import sigkernel\n",
    "import torch\n",
    "from einops import rearrange\n",
    "from itertools import product\n",
    "import cython\n",
    "import matplotlib.pyplot  as plt\n",
    "import tqdm\n",
    "#mport Functions as fu\n",
    "import line_profiler\n",
    "from datetime import datetime, timedelta\n",
    "from multiprocessing import Pool, cpu_count\n",
    "import time\n",
    "from weatherbench2.metrics import MSE, ACC\n",
    "from weatherbench2.regions import SliceRegion"
   ]
  },
  {
   "cell_type": "code",
   "execution_count": 2,
   "id": "b1fb9f1c",
   "metadata": {},
   "outputs": [],
   "source": [
    "import apache_beam"
   ]
  },
  {
   "cell_type": "code",
   "execution_count": 7,
   "id": "167daa43",
   "metadata": {},
   "outputs": [],
   "source": [
    "obs_path = 'gs://weatherbench2/datasets/era5/1959-2023_01_10-6h-64x32_equiangular_conservative.zarr'"
   ]
  },
  {
   "cell_type": "code",
   "execution_count": 8,
   "id": "bb662fe2",
   "metadata": {},
   "outputs": [],
   "source": [
    "climatology_path = 'gs://weatherbench2/datasets/era5-hourly-climatology/1990-2019_6h_64x32_equiangular_conservative.zarr'\n",
    "climatology = xr.open_zarr(climatology_path)"
   ]
  },
  {
   "cell_type": "code",
   "execution_count": 5,
   "id": "85045a1a",
   "metadata": {},
   "outputs": [],
   "source": [
    "pathsIFS = config.Paths(\n",
    "    forecast='gs://weatherbench2/datasets/ifs_ens/2018-2022-64x32_equiangular_conservative_mean.zarr',\n",
    "    obs=obs_path,\n",
    "    output_dir='./',   # Directory to save evaluation results\n",
    ")\n",
    "pathsIFUXI = config.Paths(\n",
    "    forecast='gs://weatherbench2/datasets/fuxi/2020-64x32_equiangular_conservative.zarr',\n",
    "    obs=obs_path,\n",
    "    output_dir='./',   # Directory to save evaluation results\n",
    ")"
   ]
  },
  {
   "cell_type": "code",
   "execution_count": 6,
   "id": "0a8dae59",
   "metadata": {},
   "outputs": [],
   "source": [
    "startdate = {0:'2020-01-01',1:'2020-02-01',2:'2020-03-01',3:'2020-04-01',4:'2020-05-01',5:'2020-06-01',6:'2020-07-01',7:'2020-08-01',8:'2020-09-01',9:'2020-10-01',10:'2020-11-01',11:'2020-12-01'}\n",
    "enddate = {0:'2020-01-03',1:'2020-02-03',2:'2020-03-03',3:'2020-04-03',4:'2020-05-03',5:'2020-06-03',6:'2020-07-03',7:'2020-08-03',8:'2020-09-03',9:'2020-10-03',10:'2020-11-03',11:'2020-12-03'}"
   ]
  },
  {
   "cell_type": "code",
   "execution_count": null,
   "id": "f6933c1c",
   "metadata": {},
   "outputs": [],
   "source": [
    "from weatherbench2.metrics import MSE, ACC\n",
    "from weatherbench2.regions import SliceRegion\n",
    "\n",
    "pathsIFS = config.Paths(\n",
    "    forecast='gs://weatherbench2/datasets/ifs_ens/2018-2022-64x32_equiangular_conservative_mean.zarr',\n",
    "    obs=obs_path,\n",
    "    output_dir='./IFSCard',   # Directory to save evaluation results\n",
    ")\n",
    "\n",
    "regions = {\n",
    "    'northernhemisphere': SliceRegion(lat_slice=slice(20, 90)),\n",
    "    'tropics': SliceRegion(lat_slice=slice(-20, 20)),\n",
    "    'southernhemisphere': SliceRegion(lat_slice=slice(-90, -20)),\n",
    "}\n",
    "\n",
    "\n",
    "for i in range(12):\n",
    "    eval_configs = {\n",
    "    'ENSERAmonths'+str(i): config.Eval(\n",
    "        metrics={\n",
    "            'mse': MSE(), \n",
    "            'acc': ACC(climatology=climatology) \n",
    "        },\n",
    "        regions=regions\n",
    "    )\n",
    "    }\n",
    "\n",
    "    selection = config.Selection(\n",
    "    variables=[\n",
    "        'geopotential',\n",
    "        'temperature',\n",
    "        '2m_temperature',\n",
    "        '10m_wind_speed',\n",
    "    ],\n",
    "    levels=[500, 850],\n",
    "    time_slice=slice(startdate[i], enddate[i])\n",
    "    )\n",
    "    data_config = config.Data(selection=selection, paths=pathsIFS)\n",
    "    \n",
    "    evaluate_in_memory(data_config, eval_configs) \n"
   ]
  },
  {
   "cell_type": "code",
   "execution_count": null,
   "id": "c58ff775",
   "metadata": {},
   "outputs": [],
   "source": [
    "pathsIFS = config.Paths(\n",
    "    forecast='gs://weatherbench2/datasets/fuxi/2020-64x32_equiangular_conservative.zarr',\n",
    "    obs=obs_path,\n",
    "    output_dir='./FUXICard',   # Directory to save evaluation results\n",
    ")\n",
    "\n",
    "regions = {\n",
    "    'northernhemisphere': SliceRegion(lat_slice=slice(20, 90)),\n",
    "    'tropics': SliceRegion(lat_slice=slice(-20, 20)),\n",
    "    'southernhemisphere': SliceRegion(lat_slice=slice(-90, -20)),\n",
    "}\n",
    "\n",
    "\n",
    "for i in range(12):\n",
    "    eval_configs = {\n",
    "    'FUXImonths'+str(i): config.Eval(\n",
    "        metrics={\n",
    "            'mse': MSE(), \n",
    "            'acc': ACC(climatology=climatology) \n",
    "        },\n",
    "        regions=regions\n",
    "    )\n",
    "    }\n",
    "\n",
    "    selection = config.Selection(\n",
    "    variables=[\n",
    "        'geopotential',\n",
    "        'temperature',\n",
    "        '2m_temperature',\n",
    "        '10m_wind_speed',\n",
    "    ],\n",
    "    levels=[500, 850],\n",
    "    time_slice=slice(startdate[i], enddate[i])\n",
    "    )\n",
    "    data_config = config.Data(selection=selection, paths=pathsIFS)\n",
    "    \n",
    "    evaluate_in_memory(data_config, eval_configs) \n"
   ]
  }
 ],
 "metadata": {
  "kernelspec": {
   "display_name": "Diss",
   "language": "python",
   "name": "python3"
  },
  "language_info": {
   "codemirror_mode": {
    "name": "ipython",
    "version": 3
   },
   "file_extension": ".py",
   "mimetype": "text/x-python",
   "name": "python",
   "nbconvert_exporter": "python",
   "pygments_lexer": "ipython3",
   "version": "3.12.7"
  }
 },
 "nbformat": 4,
 "nbformat_minor": 5
}
